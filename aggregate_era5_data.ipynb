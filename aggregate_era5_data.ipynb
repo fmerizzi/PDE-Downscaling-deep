{
 "cells": [
  {
   "cell_type": "code",
   "execution_count": 2,
   "metadata": {},
   "outputs": [],
   "source": [
    "import xarray as xr\n",
    "import cfgrib\n",
    "import numpy as np \n",
    "import netCDF4\n",
    "import matplotlib.pyplot as plt"
   ]
  },
  {
   "cell_type": "code",
   "execution_count": 18,
   "metadata": {
    "scrolled": true
   },
   "outputs": [
    {
     "name": "stdout",
     "output_type": "stream",
     "text": [
      "anno-> 2010\n",
      "(3, 744, 5, 9)\n",
      "(3, 672, 5, 9)\n",
      "(3, 744, 5, 9)\n",
      "(3, 720, 5, 9)\n",
      "(3, 744, 5, 9)\n",
      "(3, 720, 5, 9)\n",
      "(3, 744, 5, 9)\n",
      "(3, 744, 5, 9)\n",
      "(3, 720, 5, 9)\n",
      "(3, 744, 5, 9)\n",
      "(3, 720, 5, 9)\n",
      "(3, 744, 5, 9)\n",
      "hours->  8760\n",
      "misses:  0\n",
      "anno-> 2011\n",
      "(3, 744, 5, 9)\n",
      "(3, 672, 5, 9)\n",
      "(3, 744, 5, 9)\n",
      "(3, 720, 5, 9)\n",
      "(3, 744, 5, 9)\n",
      "(3, 720, 5, 9)\n",
      "(3, 744, 5, 9)\n",
      "(3, 744, 5, 9)\n",
      "(3, 720, 5, 9)\n",
      "(3, 744, 5, 9)\n",
      "(3, 720, 5, 9)\n",
      "(3, 744, 5, 9)\n",
      "hours->  8760\n",
      "misses:  0\n",
      "anno-> 2012\n",
      "bisestile\n",
      "(3, 744, 5, 9)\n",
      "(3, 696, 5, 9)\n",
      "(3, 744, 5, 9)\n",
      "(3, 720, 5, 9)\n",
      "(3, 744, 5, 9)\n",
      "(3, 720, 5, 9)\n",
      "(3, 744, 5, 9)\n",
      "(3, 744, 5, 9)\n",
      "(3, 720, 5, 9)\n",
      "(3, 744, 5, 9)\n",
      "(3, 720, 5, 9)\n",
      "(3, 744, 5, 9)\n",
      "hours->  8784\n",
      "misses:  0\n",
      "anno-> 2013\n",
      "(3, 744, 5, 9)\n",
      "(3, 672, 5, 9)\n",
      "(3, 744, 5, 9)\n",
      "(3, 720, 5, 9)\n",
      "(3, 744, 5, 9)\n",
      "(3, 720, 5, 9)\n",
      "(3, 744, 5, 9)\n",
      "(3, 744, 5, 9)\n",
      "(3, 720, 5, 9)\n",
      "(3, 744, 5, 9)\n",
      "(3, 720, 5, 9)\n",
      "(3, 744, 5, 9)\n",
      "hours->  8760\n",
      "misses:  0\n",
      "anno-> 2014\n",
      "(3, 744, 5, 9)\n",
      "(3, 672, 5, 9)\n",
      "(3, 744, 5, 9)\n",
      "(3, 720, 5, 9)\n",
      "(3, 744, 5, 9)\n",
      "(3, 720, 5, 9)\n",
      "(3, 744, 5, 9)\n",
      "(3, 744, 5, 9)\n",
      "(3, 720, 5, 9)\n",
      "(3, 744, 5, 9)\n",
      "(3, 720, 5, 9)\n",
      "(3, 744, 5, 9)\n",
      "hours->  8760\n",
      "misses:  0\n",
      "anno-> 2015\n",
      "(3, 744, 5, 9)\n",
      "(3, 672, 5, 9)\n",
      "(3, 744, 5, 9)\n",
      "(3, 720, 5, 9)\n",
      "(3, 744, 5, 9)\n",
      "(3, 720, 5, 9)\n",
      "(3, 744, 5, 9)\n",
      "(3, 744, 5, 9)\n",
      "(3, 720, 5, 9)\n",
      "(3, 744, 5, 9)\n",
      "(3, 720, 5, 9)\n",
      "(3, 744, 5, 9)\n",
      "hours->  8760\n",
      "misses:  0\n",
      "anno-> 2016\n",
      "bisestile\n",
      "(3, 744, 5, 9)\n",
      "(3, 696, 5, 9)\n"
     ]
    },
    {
     "name": "stderr",
     "output_type": "stream",
     "text": [
      "Ignoring index file '/home/faster/Documents/approximating_shefem/era5bits/download042016.grib.923a8.idx' incompatible with GRIB file\n"
     ]
    },
    {
     "name": "stdout",
     "output_type": "stream",
     "text": [
      "(3, 744, 5, 9)\n",
      "(3, 720, 5, 9)\n",
      "(3, 744, 5, 9)\n",
      "(3, 720, 5, 9)\n",
      "(3, 744, 5, 9)\n",
      "(3, 744, 5, 9)\n",
      "(3, 720, 5, 9)\n",
      "(3, 744, 5, 9)\n",
      "(3, 720, 5, 9)\n",
      "(3, 744, 5, 9)\n",
      "hours->  8784\n",
      "misses:  0\n",
      "anno-> 2017\n",
      "(3, 744, 5, 9)\n",
      "(3, 672, 5, 9)\n",
      "(3, 744, 5, 9)\n",
      "(3, 720, 5, 9)\n",
      "(3, 744, 5, 9)\n",
      "(3, 720, 5, 9)\n",
      "(3, 744, 5, 9)\n",
      "(3, 744, 5, 9)\n",
      "(3, 720, 5, 9)\n",
      "(3, 744, 5, 9)\n",
      "(3, 720, 5, 9)\n",
      "(3, 744, 5, 9)\n",
      "hours->  8760\n",
      "misses:  0\n",
      "anno-> 2018\n",
      "(3, 744, 5, 9)\n",
      "(3, 672, 5, 9)\n",
      "(3, 744, 5, 9)\n",
      "(3, 720, 5, 9)\n",
      "(3, 744, 5, 9)\n",
      "(3, 720, 5, 9)\n",
      "(3, 744, 5, 9)\n",
      "(3, 744, 5, 9)\n",
      "(3, 720, 5, 9)\n",
      "(3, 744, 5, 9)\n",
      "(3, 720, 5, 9)\n",
      "(3, 744, 5, 9)\n",
      "hours->  8760\n",
      "misses:  0\n",
      "anno-> 2019\n",
      "(3, 744, 5, 9)\n",
      "(3, 672, 5, 9)\n",
      "(3, 744, 5, 9)\n",
      "(3, 720, 5, 9)\n",
      "(3, 744, 5, 9)\n",
      "(3, 720, 5, 9)\n",
      "(3, 744, 5, 9)\n",
      "(3, 744, 5, 9)\n",
      "(3, 720, 5, 9)\n",
      "(3, 744, 5, 9)\n",
      "(3, 720, 5, 9)\n",
      "(3, 744, 5, 9)\n",
      "hours->  8760\n",
      "misses:  0\n"
     ]
    }
   ],
   "source": [
    "for year in range(2010,2020,1):\n",
    "    print(\"anno->\", year)\n",
    "    if(year == 2012 or year == 2016):\n",
    "        print(\"bisestile\")\n",
    "        accumulator = np.full((3,8784,5,9), 136.0)\n",
    "    else:\n",
    "        accumulator = np.full((3,8760,5,9), 136.0)\n",
    "        \n",
    "    sum = 0\n",
    "    for i in range(12): \n",
    "        if(i<9):\n",
    "            era = \"/home/faster/Documents/approximating_shefem/era5bits/download0\"+str(i+1)+str(year)+\".grib\"\n",
    "        else:\n",
    "            era = \"/home/faster/Documents/approximating_shefem/era5bits/download\"+str(i+1)+str(year)+\".grib\"\n",
    "        ds_grib_era = xr.open_dataset(era)\n",
    "        ds_grib_era = ds_grib_era.sel(latitude=slice(46,44.94), longitude=slice(12,14))\n",
    "        ds_array_era = ds_grib_era.to_array()\n",
    "        ds_numpy_era = ds_array_era.to_numpy()\n",
    "        accumulator[:,sum:sum+ds_numpy_era.shape[1],:,:] = ds_numpy_era\n",
    "        print(ds_numpy_era.shape)\n",
    "        sum = sum + ds_numpy_era.shape[1]\n",
    "    \n",
    "    print(\"hours-> \",sum)\n",
    "    print(\"misses: \",np.count_nonzero(accumulator[0] == 136.0))\n",
    "    np.save(\"era5_years/ERA5_adriatic_u10v10sp_\" + str(year),accumulator)"
   ]
  },
  {
   "cell_type": "markdown",
   "metadata": {},
   "source": [
    "## Merge Years"
   ]
  },
  {
   "cell_type": "code",
   "execution_count": 21,
   "metadata": {
    "scrolled": true
   },
   "outputs": [
    {
     "name": "stdout",
     "output_type": "stream",
     "text": [
      "8760\n",
      "17520\n",
      "26304\n",
      "35064\n",
      "43824\n",
      "52584\n",
      "61368\n",
      "70128\n",
      "78888\n"
     ]
    }
   ],
   "source": [
    "accumulator = np.full((3,78888,5,9), 136.0)\n",
    "sum = 0 \n",
    "for i in range(9):\n",
    "    tmp = np.load(\"/home/faster/Documents/approximating_shefem/era5_years/ERA5_adriatic_u10v10sp_201\"+str(i)+\".npy\")\n",
    "    accumulator[:,sum:sum+tmp.shape[1],:,:] = tmp\n",
    "    sum = sum + tmp.shape[1]\n",
    "    print(sum)"
   ]
  },
  {
   "cell_type": "code",
   "execution_count": 22,
   "metadata": {},
   "outputs": [
    {
     "data": {
      "text/plain": [
       "0"
      ]
     },
     "execution_count": 22,
     "metadata": {},
     "output_type": "execute_result"
    }
   ],
   "source": [
    "np.count_nonzero(accumulator[0] == 136.0)"
   ]
  },
  {
   "cell_type": "code",
   "execution_count": 23,
   "metadata": {},
   "outputs": [
    {
     "data": {
      "text/plain": [
       "(3, 78888, 5, 9)"
      ]
     },
     "execution_count": 23,
     "metadata": {},
     "output_type": "execute_result"
    }
   ],
   "source": [
    "accumulator.shape"
   ]
  },
  {
   "cell_type": "code",
   "execution_count": 24,
   "metadata": {},
   "outputs": [],
   "source": [
    "np.save(\"ERA5_adriatic_u10v10sp_2010-2018\",accumulator)"
   ]
  },
  {
   "cell_type": "code",
   "execution_count": 35,
   "metadata": {},
   "outputs": [],
   "source": [
    "test = np.load(\"ERA5_adriatic_u10v10sp_2010-2018.npy\")"
   ]
  },
  {
   "cell_type": "code",
   "execution_count": 37,
   "metadata": {},
   "outputs": [],
   "source": [
    "#np.save(\"ERA5_adriatic_u10v10sp_2010-2018\", test.astype(np.float32))"
   ]
  },
  {
   "cell_type": "code",
   "execution_count": 43,
   "metadata": {},
   "outputs": [
    {
     "data": {
      "text/plain": [
       "89486.81"
      ]
     },
     "execution_count": 43,
     "metadata": {},
     "output_type": "execute_result"
    }
   ],
   "source": [
    "test[2].min()"
   ]
  },
  {
   "cell_type": "code",
   "execution_count": 29,
   "metadata": {},
   "outputs": [
    {
     "data": {
      "text/plain": [
       "<matplotlib.image.AxesImage at 0x7fb394d17290>"
      ]
     },
     "execution_count": 29,
     "metadata": {},
     "output_type": "execute_result"
    },
    {
     "data": {
      "image/png": "[encoded data removed]",
      "text/plain": [
       "<Figure size 640x480 with 1 Axes>"
      ]
     },
     "metadata": {},
     "output_type": "display_data"
    }
   ],
   "source": [
    "plt.imshow(test[0,100])"
   ]
  },
  {
   "cell_type": "code",
   "execution_count": 27,
   "metadata": {},
   "outputs": [],
   "source": [
    "big = np.load(\"VHR-REA-reprojected_and_strict_cut_mslp-u10-v10_2010-2018.npy\")"
   ]
  },
  {
   "cell_type": "code",
   "execution_count": 64,
   "metadata": {},
   "outputs": [
    {
     "data": {
      "text/plain": [
       "<matplotlib.image.AxesImage at 0x7f500b931110>"
      ]
     },
     "execution_count": 64,
     "metadata": {},
     "output_type": "execute_result"
    },
    {
     "data": {
      "image/png": "[encoded data removed]",
      "text/plain": [
       "<Figure size 640x480 with 1 Axes>"
      ]
     },
     "metadata": {},
     "output_type": "display_data"
    }
   ],
   "source": [
    "plt.imshow(big[0,100])"
   ]
  }
 ],
 "metadata": {
  "kernelspec": {
   "display_name": "Python 3 (ipykernel)",
   "language": "python",
   "name": "python3"
  },
  "language_info": {
   "codemirror_mode": {
    "name": "ipython",
    "version": 3
   },
   "file_extension": ".py",
   "mimetype": "text/x-python",
   "name": "python",
   "nbconvert_exporter": "python",
   "pygments_lexer": "ipython3",
   "version": "3.11.7"
  }
 },
 "nbformat": 4,
 "nbformat_minor": 4
}
