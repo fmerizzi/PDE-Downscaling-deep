{
 "cells": [
  {
   "cell_type": "code",
   "execution_count": null,
   "id": "597db348-2ef4-4786-bf1a-93489d897da8",
   "metadata": {},
   "outputs": [
    {
     "name": "stderr",
     "output_type": "stream",
     "text": [
      "2024-03-15 09:22:30,678 INFO Welcome to the CDS\n",
      "2024-03-15 09:22:30,679 INFO Sending request to https://cds.climate.copernicus.eu/api/v2/resources/reanalysis-era5-single-levels\n",
      "2024-03-15 09:22:31,120 INFO Request is completed\n",
      "2024-03-15 09:22:31,121 INFO Downloading https://download-0007-clone.copernicus-climate.eu/cache-compute-0007/cache/data2/adaptor.mars.internal-1710150717.25133-6043-6-dd090a87-1b81-44f4-8167-95107d10cef0.grib to download012011.grib (784.7K)\n",
      "2024-03-15 09:22:31,243 INFO Download rate 6.4M/s                                                                   \n",
      "2024-03-15 09:22:31,257 INFO Welcome to the CDS\n",
      "2024-03-15 09:22:31,257 INFO Sending request to https://cds.climate.copernicus.eu/api/v2/resources/reanalysis-era5-single-levels\n",
      "2024-03-15 09:22:31,415 INFO Request is queued\n"
     ]
    }
   ],
   "source": [
    "import cdsapi\n",
    "months = [ \n",
    "            '01', '02', '03',\n",
    "            '04', '05', '06',\n",
    "            '07', '08', '09',\n",
    "            '10', '11', '12',\n",
    "        ]\n",
    "\n",
    "years = ['2011']\n",
    "\n",
    "for year in years:\n",
    "    for m in months:\n",
    "    \n",
    "        c = cdsapi.Client()\n",
    "        \n",
    "        c.retrieve(\n",
    "            'reanalysis-era5-single-levels',\n",
    "            {\n",
    "                'product_type': 'reanalysis',\n",
    "                'variable': [\n",
    "                    '10m_u_component_of_wind', '10m_v_component_of_wind', 'surface_pressure',\n",
    "                ],\n",
    "                'year': year,\n",
    "                'month': m,\n",
    "                'day': [\n",
    "                    '01', '02', '03',\n",
    "                    '04', '05', '06',\n",
    "                    '07', '08', '09',\n",
    "                    '10', '11', '12',\n",
    "                    '13', '14', '15',\n",
    "                    '16', '17', '18',\n",
    "                    '19', '20', '21',\n",
    "                    '22', '23', '24',\n",
    "                    '25', '26', '27',\n",
    "                    '28', '29', '30',\n",
    "                    '31',\n",
    "                ],\n",
    "                'time': [\n",
    "                    '00:00', '01:00', '02:00',\n",
    "                    '03:00', '04:00', '05:00',\n",
    "                    '06:00', '07:00', '08:00',\n",
    "                    '09:00', '10:00', '11:00',\n",
    "                    '12:00', '13:00', '14:00',\n",
    "                    '15:00', '16:00', '17:00',\n",
    "                    '18:00', '19:00', '20:00',\n",
    "                    '21:00', '22:00', '23:00',\n",
    "                ],\n",
    "                'area': [\n",
    "                    46, 12, 44,\n",
    "                    14,\n",
    "                ],\n",
    "                'format': 'grib',\n",
    "            },\n",
    "            'download'+str(m)+str(year)+'.grib')"
   ]
  },
  {
   "cell_type": "code",
   "execution_count": null,
   "id": "e81a45f3-f435-45bb-8769-aec1ac2c14ab",
   "metadata": {},
   "outputs": [],
   "source": []
  }
 ],
 "metadata": {
  "kernelspec": {
   "display_name": "Python 3 (ipykernel)",
   "language": "python",
   "name": "python3"
  },
  "language_info": {
   "codemirror_mode": {
    "name": "ipython",
    "version": 3
   },
   "file_extension": ".py",
   "mimetype": "text/x-python",
   "name": "python",
   "nbconvert_exporter": "python",
   "pygments_lexer": "ipython3",
   "version": "3.11.7"
  }
 },
 "nbformat": 4,
 "nbformat_minor": 5
}
